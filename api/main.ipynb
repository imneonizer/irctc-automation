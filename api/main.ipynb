{
 "cells": [
  {
   "cell_type": "code",
   "execution_count": 11,
   "id": "33fd1b4e",
   "metadata": {},
   "outputs": [],
   "source": [
    "from irctc import Irctc\n",
    "import time\n",
    "import datetime\n",
    "\n",
    "irctc = Irctc(headless=False)"
   ]
  },
  {
   "cell_type": "code",
   "execution_count": 21,
   "id": "b1f1cc6e-2502-4445-9585-169394718122",
   "metadata": {
    "scrolled": true
   },
   "outputs": [
    {
     "name": "stdout",
     "output_type": "stream",
     "text": [
      "Captcha: 3CF28\n",
      "Logged in as dearlaljit123 on 2022-01-20 17:48:02.117603\n",
      "Elapsed: 3.522 sec\n"
     ]
    },
    {
     "data": {
      "text/plain": [
       "True"
      ]
     },
     "execution_count": 21,
     "metadata": {},
     "output_type": "execute_result"
    }
   ],
   "source": [
    "irctc.login(\"dearlaljit123\", \"Muskan432\", print_captcha=True, max_retry=100)"
   ]
  },
  {
   "cell_type": "code",
   "execution_count": 20,
   "id": "f28255ee",
   "metadata": {},
   "outputs": [
    {
     "data": {
      "text/plain": [
       "True"
      ]
     },
     "execution_count": 20,
     "metadata": {},
     "output_type": "execute_result"
    }
   ],
   "source": [
    "irctc.logout()"
   ]
  },
  {
   "cell_type": "code",
   "execution_count": 3,
   "id": "dd5900aa",
   "metadata": {},
   "outputs": [],
   "source": [
    "res = irctc.search_train({\n",
    "            \"origin\": \"MFP\",\n",
    "            \"destination\": \"NDLS\",\n",
    "            \"date\": \"22/03/2022\",\n",
    "            \"class\": \"SL\",\n",
    "            \"quota\": \"general\",\n",
    "            \"train_number\": \"12557\",\n",
    "        })\n",
    "\n",
    "res\n",
    "\n",
    "\n",
    "if not isinstance(res, str):\n",
    "    res[4].book_now()"
   ]
  },
  {
   "cell_type": "code",
   "execution_count": 6,
   "id": "fe78a532",
   "metadata": {},
   "outputs": [
    {
     "name": "stdout",
     "output_type": "stream",
     "text": [
      "Captcha: QYVJF\n"
     ]
    },
    {
     "data": {
      "text/plain": [
       "True"
      ]
     },
     "execution_count": 6,
     "metadata": {},
     "output_type": "execute_result"
    }
   ],
   "source": [
    "details = {\n",
    "    \"passengers\": [\n",
    "        {\n",
    "            \"name\": \"Anand kumar\",\n",
    "            \"age\": 42,\n",
    "            \"gender\": \"male\",\n",
    "            \"nationality\": \"india\",\n",
    "            \"preference\": \"lower\"\n",
    "        }\n",
    "    ],\n",
    "    \"travel_insurance\": True,\n",
    "    \"mobile\": 8766371597,\n",
    "    \"city\": \"delhi\",\n",
    "    \"pincode\": 110044,\n",
    "    \"payment_mode\": \"upi\",\n",
    "    \"upi_id\": \"upi@id\"\n",
    "}\n",
    "\n",
    "irctc.fill_passenger_details(details)"
   ]
  },
  {
   "cell_type": "code",
   "execution_count": null,
   "id": "03fb89cc",
   "metadata": {},
   "outputs": [],
   "source": [
    "irctc.passenger_page.select_paytm_payment()"
   ]
  },
  {
   "cell_type": "code",
   "execution_count": null,
   "id": "e3106979",
   "metadata": {},
   "outputs": [],
   "source": [
    "# cancel payment\n",
    "irctc.driver.find_element_by_class_name(\"top-headerbox\").find_element_by_tag_name(\"img\").click()\n",
    "\n",
    "# sleep 1 sec\n",
    "time.sleep(1)\n",
    "\n",
    "# click yes on confirmation box\n",
    "if \"Cancel Payment\" in irctc.driver.find_element_by_class_name(\"popup-global\").text:\n",
    "    for e in irctc.driver.find_element_by_class_name(\"popup-global\").find_elements_by_class_name(\"btn-primary\"):\n",
    "        if e.text == \"Yes\":\n",
    "            e.click()\n",
    "            \n",
    "#check if we are back on irctc page\n",
    "if \"irctc.co.in\" in irctc.driver.current_url:\n",
    "    print(\"we are back\")"
   ]
  },
  {
   "cell_type": "code",
   "execution_count": 9,
   "id": "432cafff-73a1-4040-807a-062794cb2d1d",
   "metadata": {},
   "outputs": [],
   "source": [
    "irctc.booking_page.go_back()"
   ]
  },
  {
   "cell_type": "code",
   "execution_count": 30,
   "id": "23e491f4-fd1e-45cb-9629-84904787105d",
   "metadata": {},
   "outputs": [
    {
     "data": {
      "text/plain": [
       "False"
      ]
     },
     "execution_count": 30,
     "metadata": {},
     "output_type": "execute_result"
    }
   ],
   "source": [
    "irctc.login_page.logged_in()"
   ]
  },
  {
   "cell_type": "code",
   "execution_count": 22,
   "id": "eeb29523-e1d3-4590-8b58-51c2371d170b",
   "metadata": {},
   "outputs": [
    {
     "data": {
      "text/plain": [
       "True"
      ]
     },
     "execution_count": 22,
     "metadata": {},
     "output_type": "execute_result"
    }
   ],
   "source": [
    "irctc.logout()"
   ]
  },
  {
   "cell_type": "code",
   "execution_count": 46,
   "id": "89eb5515-c696-4e03-8ae8-5d1dc7606014",
   "metadata": {},
   "outputs": [],
   "source": [
    "irctc.driver.quit()"
   ]
  }
 ],
 "metadata": {
  "kernelspec": {
   "display_name": "Python 3 (ipykernel)",
   "language": "python",
   "name": "python3"
  },
  "language_info": {
   "codemirror_mode": {
    "name": "ipython",
    "version": 3
   },
   "file_extension": ".py",
   "mimetype": "text/x-python",
   "name": "python",
   "nbconvert_exporter": "python",
   "pygments_lexer": "ipython3",
   "version": "3.7.12"
  }
 },
 "nbformat": 4,
 "nbformat_minor": 5
}
