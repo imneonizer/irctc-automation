{
 "cells": [
  {
   "cell_type": "code",
   "execution_count": 9,
   "id": "33fd1b4e",
   "metadata": {},
   "outputs": [],
   "source": [
    "from irctc import Irctc\n",
    "import time\n",
    "import datetime\n",
    "\n",
    "irctc = Irctc(headless=False)"
   ]
  },
  {
   "cell_type": "code",
   "execution_count": 33,
   "id": "b1f1cc6e-2502-4445-9585-169394718122",
   "metadata": {},
   "outputs": [
    {
     "name": "stdout",
     "output_type": "stream",
     "text": [
      "Captcha: RGJ8W3\n",
      "Logged in as dearlaljit123 on 2022-01-20 13:08:31.436715\n",
      "Elapsed: 6.388 sec\n"
     ]
    },
    {
     "data": {
      "text/plain": [
       "True"
      ]
     },
     "execution_count": 33,
     "metadata": {},
     "output_type": "execute_result"
    }
   ],
   "source": [
    "irctc.login(\"dearlaljit123\", \"Muskan432\", print_captcha=True, max_retry=100)"
   ]
  },
  {
   "cell_type": "code",
   "execution_count": null,
   "id": "475d8e7b",
   "metadata": {},
   "outputs": [],
   "source": [
    "res = irctc.search_train({\n",
    "            \"origin\": \"MFP\",\n",
    "            \"destination\": \"NDLS\",\n",
    "            \"date\": \"22/03/2022\",\n",
    "            \"class\": \"SL\",\n",
    "            \"quota\": \"general\",\n",
    "            \"train_number\": \"12557\",\n",
    "        })\n",
    "\n",
    "res"
   ]
  },
  {
   "cell_type": "code",
   "execution_count": null,
   "id": "110c7807",
   "metadata": {},
   "outputs": [],
   "source": [
    "if not isinstance(res, str):\n",
    "    res[4].book_now()"
   ]
  },
  {
   "cell_type": "code",
   "execution_count": 40,
   "id": "dbf1d097",
   "metadata": {},
   "outputs": [
    {
     "name": "stdout",
     "output_type": "stream",
     "text": [
      "Captcha: 3\n",
      "Captcha: C4HAQ\n"
     ]
    },
    {
     "data": {
      "text/plain": [
       "True"
      ]
     },
     "execution_count": 40,
     "metadata": {},
     "output_type": "execute_result"
    }
   ],
   "source": [
    "details = {\n",
    "    \"passengers\": [\n",
    "        {\n",
    "            \"name\": \"Anand kumar\",\n",
    "            \"age\": 42,\n",
    "            \"gender\": \"male\",\n",
    "            \"nationality\": \"india\",\n",
    "            \"preference\": \"lower\"\n",
    "        }\n",
    "    ],\n",
    "    \"travel_insurance\": True,\n",
    "    \"mobile\": 8766371597,\n",
    "    \"city\": \"delhi\",\n",
    "    \"pincode\": 110044,\n",
    "    \"payment_mode\": \"upi\",\n",
    "    \"upi_id\": \"upi@id\"\n",
    "}\n",
    "\n",
    "irctc.fill_passenger_details(details)"
   ]
  },
  {
   "cell_type": "code",
   "execution_count": 26,
   "id": "7379f856-8805-43ad-a61d-81724a207dcb",
   "metadata": {},
   "outputs": [
    {
     "name": "stdout",
     "output_type": "stream",
     "text": [
      "None\n"
     ]
    }
   ],
   "source": [
    "irctc.passenger_page.continue_upi_payment(\"myupi@id\")"
   ]
  },
  {
   "cell_type": "code",
   "execution_count": 6,
   "id": "c2d52cb9-5a2e-470f-89b7-9d60bf6115f2",
   "metadata": {},
   "outputs": [
    {
     "data": {
      "text/plain": [
       "'100003163559406'"
      ]
     },
     "execution_count": 6,
     "metadata": {},
     "output_type": "execute_result"
    }
   ],
   "source": [
    "paytm_order_id = irctc.driver.current_url.split(\"=\")[1]\n",
    "paytm_order_id"
   ]
  },
  {
   "cell_type": "code",
   "execution_count": null,
   "id": "69c8677c",
   "metadata": {},
   "outputs": [],
   "source": [
    "# cancel payment\n",
    "irctc.driver.find_element_by_class_name(\"top-headerbox\").find_element_by_tag_name(\"img\").click()"
   ]
  },
  {
   "cell_type": "code",
   "execution_count": 27,
   "id": "4c2be3de",
   "metadata": {},
   "outputs": [],
   "source": [
    "# click yes on confirmation box\n",
    "if \"Cancel Payment\" in irctc.driver.find_element_by_class_name(\"popup-global\").text:\n",
    "    for e in irctc.driver.find_element_by_class_name(\"popup-global\").find_elements_by_class_name(\"btn-primary\"):\n",
    "        if e.text == \"Yes\":\n",
    "            e.click()"
   ]
  },
  {
   "cell_type": "code",
   "execution_count": 21,
   "id": "c510d1be-4ac3-417b-8e4b-493e5de45cc9",
   "metadata": {},
   "outputs": [
    {
     "name": "stdout",
     "output_type": "stream",
     "text": [
      "we are back\n"
     ]
    }
   ],
   "source": [
    "#check if we are back on irctc page\n",
    "if \"irctc.co.in\" in irctc.driver.current_url:\n",
    "    print(\"we are back\")"
   ]
  },
  {
   "cell_type": "code",
   "execution_count": 44,
   "id": "432cafff-73a1-4040-807a-062794cb2d1d",
   "metadata": {},
   "outputs": [],
   "source": [
    "irctc.booking_page.go_back()"
   ]
  },
  {
   "cell_type": "code",
   "execution_count": 30,
   "id": "23e491f4-fd1e-45cb-9629-84904787105d",
   "metadata": {},
   "outputs": [
    {
     "data": {
      "text/plain": [
       "False"
      ]
     },
     "execution_count": 30,
     "metadata": {},
     "output_type": "execute_result"
    }
   ],
   "source": [
    "irctc.login_page.logged_in()"
   ]
  },
  {
   "cell_type": "code",
   "execution_count": 31,
   "id": "eeb29523-e1d3-4590-8b58-51c2371d170b",
   "metadata": {},
   "outputs": [
    {
     "data": {
      "text/plain": [
       "True"
      ]
     },
     "execution_count": 31,
     "metadata": {},
     "output_type": "execute_result"
    }
   ],
   "source": [
    "# TODO: if page src is not irctc then go to irctc\n",
    "# this happends if it redirects automatically to payment page or captcha advt page\n",
    "irctc.logout()"
   ]
  },
  {
   "cell_type": "code",
   "execution_count": 46,
   "id": "89eb5515-c696-4e03-8ae8-5d1dc7606014",
   "metadata": {},
   "outputs": [],
   "source": [
    "irctc.chrome.driver.quit()"
   ]
  }
 ],
 "metadata": {
  "kernelspec": {
   "display_name": "Python 3 (ipykernel)",
   "language": "python",
   "name": "python3"
  },
  "language_info": {
   "codemirror_mode": {
    "name": "ipython",
    "version": 3
   },
   "file_extension": ".py",
   "mimetype": "text/x-python",
   "name": "python",
   "nbconvert_exporter": "python",
   "pygments_lexer": "ipython3",
   "version": "3.7.12"
  }
 },
 "nbformat": 4,
 "nbformat_minor": 5
}
